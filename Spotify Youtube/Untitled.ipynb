{
 "cells": [
  {
   "cell_type": "code",
   "execution_count": 102,
   "id": "a6d30b84-1d2e-4bec-bb6d-675886496fc2",
   "metadata": {},
   "outputs": [],
   "source": [
    "import pandas as pd\n",
    "import numpy as np\n",
    "import seaborn as sns\n",
    "from matplotlib import  pyplot as plt\n",
    "%config Completer.use_jedi = False\n",
    "data = pd.read_csv(\"Spotify Youtube Dataset.csv\")"
   ]
  },
  {
   "cell_type": "code",
   "execution_count": 103,
   "id": "58966e81-43c0-4ab4-8992-359b43a64617",
   "metadata": {
    "scrolled": true
   },
   "outputs": [
    {
     "data": {
      "text/html": [
       "<div>\n",
       "<style scoped>\n",
       "    .dataframe tbody tr th:only-of-type {\n",
       "        vertical-align: middle;\n",
       "    }\n",
       "\n",
       "    .dataframe tbody tr th {\n",
       "        vertical-align: top;\n",
       "    }\n",
       "\n",
       "    .dataframe thead th {\n",
       "        text-align: right;\n",
       "    }\n",
       "</style>\n",
       "<table border=\"1\" class=\"dataframe\">\n",
       "  <thead>\n",
       "    <tr style=\"text-align: right;\">\n",
       "      <th></th>\n",
       "      <th>Artist</th>\n",
       "      <th>Track</th>\n",
       "      <th>Album</th>\n",
       "      <th>Album_type</th>\n",
       "      <th>Danceability</th>\n",
       "      <th>Energy</th>\n",
       "      <th>Key</th>\n",
       "      <th>Loudness</th>\n",
       "      <th>Speechiness</th>\n",
       "      <th>Acousticness</th>\n",
       "      <th>...</th>\n",
       "      <th>Duration_ms</th>\n",
       "      <th>Title</th>\n",
       "      <th>Channel</th>\n",
       "      <th>Views</th>\n",
       "      <th>Likes</th>\n",
       "      <th>Comments</th>\n",
       "      <th>Description</th>\n",
       "      <th>Licensed</th>\n",
       "      <th>official_video</th>\n",
       "      <th>Stream</th>\n",
       "    </tr>\n",
       "  </thead>\n",
       "  <tbody>\n",
       "    <tr>\n",
       "      <th>0</th>\n",
       "      <td>Gorillaz</td>\n",
       "      <td>Feel Good Inc.</td>\n",
       "      <td>Demon Days</td>\n",
       "      <td>album</td>\n",
       "      <td>0.818</td>\n",
       "      <td>0.705</td>\n",
       "      <td>6.0</td>\n",
       "      <td>-6.679</td>\n",
       "      <td>0.1770</td>\n",
       "      <td>0.00836</td>\n",
       "      <td>...</td>\n",
       "      <td>222640.0</td>\n",
       "      <td>Gorillaz - Feel Good Inc. (Official Video)</td>\n",
       "      <td>Gorillaz</td>\n",
       "      <td>693555221.0</td>\n",
       "      <td>6220896.0</td>\n",
       "      <td>169907.0</td>\n",
       "      <td>Official HD Video for Gorillaz' fantastic trac...</td>\n",
       "      <td>True</td>\n",
       "      <td>True</td>\n",
       "      <td>1.040235e+09</td>\n",
       "    </tr>\n",
       "    <tr>\n",
       "      <th>1</th>\n",
       "      <td>Gorillaz</td>\n",
       "      <td>Rhinestone Eyes</td>\n",
       "      <td>Plastic Beach</td>\n",
       "      <td>album</td>\n",
       "      <td>0.676</td>\n",
       "      <td>0.703</td>\n",
       "      <td>8.0</td>\n",
       "      <td>-5.815</td>\n",
       "      <td>0.0302</td>\n",
       "      <td>0.08690</td>\n",
       "      <td>...</td>\n",
       "      <td>200173.0</td>\n",
       "      <td>Gorillaz - Rhinestone Eyes [Storyboard Film] (...</td>\n",
       "      <td>Gorillaz</td>\n",
       "      <td>72011645.0</td>\n",
       "      <td>1079128.0</td>\n",
       "      <td>31003.0</td>\n",
       "      <td>The official video for Gorillaz - Rhinestone E...</td>\n",
       "      <td>True</td>\n",
       "      <td>True</td>\n",
       "      <td>3.100837e+08</td>\n",
       "    </tr>\n",
       "    <tr>\n",
       "      <th>2</th>\n",
       "      <td>Gorillaz</td>\n",
       "      <td>New Gold (feat. Tame Impala and Bootie Brown)</td>\n",
       "      <td>New Gold (feat. Tame Impala and Bootie Brown)</td>\n",
       "      <td>single</td>\n",
       "      <td>0.695</td>\n",
       "      <td>0.923</td>\n",
       "      <td>1.0</td>\n",
       "      <td>-3.930</td>\n",
       "      <td>0.0522</td>\n",
       "      <td>0.04250</td>\n",
       "      <td>...</td>\n",
       "      <td>215150.0</td>\n",
       "      <td>Gorillaz - New Gold ft. Tame Impala &amp; Bootie B...</td>\n",
       "      <td>Gorillaz</td>\n",
       "      <td>8435055.0</td>\n",
       "      <td>282142.0</td>\n",
       "      <td>7399.0</td>\n",
       "      <td>Gorillaz - New Gold ft. Tame Impala &amp; Bootie B...</td>\n",
       "      <td>True</td>\n",
       "      <td>True</td>\n",
       "      <td>6.306347e+07</td>\n",
       "    </tr>\n",
       "  </tbody>\n",
       "</table>\n",
       "<p>3 rows × 24 columns</p>\n",
       "</div>"
      ],
      "text/plain": [
       "     Artist                                          Track  \\\n",
       "0  Gorillaz                                 Feel Good Inc.   \n",
       "1  Gorillaz                                Rhinestone Eyes   \n",
       "2  Gorillaz  New Gold (feat. Tame Impala and Bootie Brown)   \n",
       "\n",
       "                                           Album Album_type  Danceability  \\\n",
       "0                                     Demon Days      album         0.818   \n",
       "1                                  Plastic Beach      album         0.676   \n",
       "2  New Gold (feat. Tame Impala and Bootie Brown)     single         0.695   \n",
       "\n",
       "   Energy  Key  Loudness  Speechiness  Acousticness  ...  Duration_ms  \\\n",
       "0   0.705  6.0    -6.679       0.1770       0.00836  ...     222640.0   \n",
       "1   0.703  8.0    -5.815       0.0302       0.08690  ...     200173.0   \n",
       "2   0.923  1.0    -3.930       0.0522       0.04250  ...     215150.0   \n",
       "\n",
       "                                               Title   Channel        Views  \\\n",
       "0         Gorillaz - Feel Good Inc. (Official Video)  Gorillaz  693555221.0   \n",
       "1  Gorillaz - Rhinestone Eyes [Storyboard Film] (...  Gorillaz   72011645.0   \n",
       "2  Gorillaz - New Gold ft. Tame Impala & Bootie B...  Gorillaz    8435055.0   \n",
       "\n",
       "       Likes  Comments                                        Description  \\\n",
       "0  6220896.0  169907.0  Official HD Video for Gorillaz' fantastic trac...   \n",
       "1  1079128.0   31003.0  The official video for Gorillaz - Rhinestone E...   \n",
       "2   282142.0    7399.0  Gorillaz - New Gold ft. Tame Impala & Bootie B...   \n",
       "\n",
       "   Licensed  official_video        Stream  \n",
       "0      True            True  1.040235e+09  \n",
       "1      True            True  3.100837e+08  \n",
       "2      True            True  6.306347e+07  \n",
       "\n",
       "[3 rows x 24 columns]"
      ]
     },
     "execution_count": 103,
     "metadata": {},
     "output_type": "execute_result"
    }
   ],
   "source": [
    "data.drop(columns=['Url_spotify', 'Uri', 'Url_youtube', 'Unnamed: 0'], inplace=True)\n",
    "data.head(3)\n"
   ]
  },
  {
   "cell_type": "code",
   "execution_count": 104,
   "id": "6b9efbcd-8417-4888-a567-cffa124a5679",
   "metadata": {},
   "outputs": [
    {
     "data": {
      "text/plain": [
       "Artist              0\n",
       "Track               0\n",
       "Album               0\n",
       "Album_type          0\n",
       "Danceability        0\n",
       "Energy              0\n",
       "Key                 0\n",
       "Loudness            0\n",
       "Speechiness         0\n",
       "Acousticness        0\n",
       "Instrumentalness    0\n",
       "Liveness            0\n",
       "Valence             0\n",
       "Tempo               0\n",
       "Duration_ms         0\n",
       "Title               0\n",
       "Channel             0\n",
       "Views               0\n",
       "Likes               0\n",
       "Comments            0\n",
       "Description         0\n",
       "Licensed            0\n",
       "official_video      0\n",
       "Stream              0\n",
       "dtype: int64"
      ]
     },
     "execution_count": 104,
     "metadata": {},
     "output_type": "execute_result"
    }
   ],
   "source": [
    "data['Likes'] = data['Likes'].fillna(0)\n",
    "data['Comments'] = data['Likes'].fillna(0)\n",
    "data.dropna(inplace=True)\n",
    "data.isna().sum()"
   ]
  },
  {
   "cell_type": "markdown",
   "id": "d14f8acb-46ef-4ff0-8709-fe9a95b53b55",
   "metadata": {},
   "source": [
    "**TOP 10 ARTISTS BY VIEWS**"
   ]
  },
  {
   "cell_type": "code",
   "execution_count": 105,
   "id": "6dcf7f02-bc38-4330-9135-60aacbf8030c",
   "metadata": {},
   "outputs": [
    {
     "data": {
      "text/plain": [
       "Artist\n",
       "Ed Sheeran                 1.546021e+10\n",
       "CoComelon                  1.460167e+10\n",
       "Katy Perry                 1.312063e+10\n",
       "Charlie Puth               1.216759e+10\n",
       "Luis Fonsi                 1.162811e+10\n",
       "Justin Bieber              1.099079e+10\n",
       "Daddy Yankee               1.086828e+10\n",
       "Bruno Mars                 1.023184e+10\n",
       "Macklemore & Ryan Lewis    1.012206e+10\n",
       "Coldplay                   9.997278e+09\n",
       "Name: Views, dtype: float64"
      ]
     },
     "execution_count": 105,
     "metadata": {},
     "output_type": "execute_result"
    }
   ],
   "source": [
    "\n",
    "data.groupby('Artist')['Views'].sum().sort_values(ascending=False).head(10)"
   ]
  },
  {
   "cell_type": "markdown",
   "id": "11402d3e-66a3-4b6c-9917-b91421b169a6",
   "metadata": {},
   "source": [
    "**TOP 10 SONGS BY STREAMS**"
   ]
  },
  {
   "cell_type": "code",
   "execution_count": 106,
   "id": "bcd56b1a-b445-4159-b07e-86e2410af9f7",
   "metadata": {},
   "outputs": [
    {
     "data": {
      "text/html": [
       "<div>\n",
       "<style scoped>\n",
       "    .dataframe tbody tr th:only-of-type {\n",
       "        vertical-align: middle;\n",
       "    }\n",
       "\n",
       "    .dataframe tbody tr th {\n",
       "        vertical-align: top;\n",
       "    }\n",
       "\n",
       "    .dataframe thead th {\n",
       "        text-align: right;\n",
       "    }\n",
       "</style>\n",
       "<table border=\"1\" class=\"dataframe\">\n",
       "  <thead>\n",
       "    <tr style=\"text-align: right;\">\n",
       "      <th></th>\n",
       "      <th>Track</th>\n",
       "      <th>Stream</th>\n",
       "    </tr>\n",
       "  </thead>\n",
       "  <tbody>\n",
       "    <tr>\n",
       "      <th>15250</th>\n",
       "      <td>Blinding Lights</td>\n",
       "      <td>3.386520e+09</td>\n",
       "    </tr>\n",
       "    <tr>\n",
       "      <th>12452</th>\n",
       "      <td>Shape of You</td>\n",
       "      <td>3.362005e+09</td>\n",
       "    </tr>\n",
       "    <tr>\n",
       "      <th>19186</th>\n",
       "      <td>Someone You Loved</td>\n",
       "      <td>2.634013e+09</td>\n",
       "    </tr>\n",
       "    <tr>\n",
       "      <th>17937</th>\n",
       "      <td>rockstar (feat. 21 Savage)</td>\n",
       "      <td>2.594927e+09</td>\n",
       "    </tr>\n",
       "    <tr>\n",
       "      <th>17445</th>\n",
       "      <td>Sunflower - Spider-Man: Into the Spider-Verse</td>\n",
       "      <td>2.538330e+09</td>\n",
       "    </tr>\n",
       "    <tr>\n",
       "      <th>17938</th>\n",
       "      <td>Sunflower - Spider-Man: Into the Spider-Verse</td>\n",
       "      <td>2.538330e+09</td>\n",
       "    </tr>\n",
       "    <tr>\n",
       "      <th>13503</th>\n",
       "      <td>One Dance</td>\n",
       "      <td>2.522432e+09</td>\n",
       "    </tr>\n",
       "    <tr>\n",
       "      <th>16099</th>\n",
       "      <td>Closer</td>\n",
       "      <td>2.456205e+09</td>\n",
       "    </tr>\n",
       "    <tr>\n",
       "      <th>16028</th>\n",
       "      <td>Closer</td>\n",
       "      <td>2.456205e+09</td>\n",
       "    </tr>\n",
       "    <tr>\n",
       "      <th>14030</th>\n",
       "      <td>Believer</td>\n",
       "      <td>2.369272e+09</td>\n",
       "    </tr>\n",
       "  </tbody>\n",
       "</table>\n",
       "</div>"
      ],
      "text/plain": [
       "                                               Track        Stream\n",
       "15250                                Blinding Lights  3.386520e+09\n",
       "12452                                   Shape of You  3.362005e+09\n",
       "19186                              Someone You Loved  2.634013e+09\n",
       "17937                     rockstar (feat. 21 Savage)  2.594927e+09\n",
       "17445  Sunflower - Spider-Man: Into the Spider-Verse  2.538330e+09\n",
       "17938  Sunflower - Spider-Man: Into the Spider-Verse  2.538330e+09\n",
       "13503                                      One Dance  2.522432e+09\n",
       "16099                                         Closer  2.456205e+09\n",
       "16028                                         Closer  2.456205e+09\n",
       "14030                                       Believer  2.369272e+09"
      ]
     },
     "execution_count": 106,
     "metadata": {},
     "output_type": "execute_result"
    }
   ],
   "source": [
    "most_streams = data[['Track', 'Stream']]\n",
    "most_streams.sort_values('Stream', ascending=False).head(10)"
   ]
  },
  {
   "cell_type": "markdown",
   "id": "720a6163-e447-4dcc-9e1b-9297ca8a7b38",
   "metadata": {},
   "source": [
    "**THE MOST COMMON ALBUM TYPE**"
   ]
  },
  {
   "cell_type": "code",
   "execution_count": 107,
   "id": "16509dd9-ad8a-4790-a28c-6d24b26082b1",
   "metadata": {},
   "outputs": [
    {
     "data": {
      "text/plain": [
       "array(['album', 'single', 'compilation'], dtype=object)"
      ]
     },
     "execution_count": 107,
     "metadata": {},
     "output_type": "execute_result"
    }
   ],
   "source": [
    "data['Album_type'].unique()"
   ]
  },
  {
   "cell_type": "code",
   "execution_count": 115,
   "id": "c08d5fd9-4131-4a12-9156-950cee6e6a67",
   "metadata": {},
   "outputs": [
    {
     "data": {
      "text/plain": [
       "Album_type\n",
       "album          13952\n",
       "single          4653\n",
       "compilation      693\n",
       "Name: count, dtype: int64"
      ]
     },
     "execution_count": 115,
     "metadata": {},
     "output_type": "execute_result"
    }
   ],
   "source": [
    "common_type = data['Album_type'].value_counts()\n",
    "common_type"
   ]
  },
  {
   "cell_type": "code",
   "execution_count": 137,
   "id": "6617c01d-177f-474e-9f26-811daffec8ec",
   "metadata": {},
   "outputs": [
    {
     "data": {
      "image/png": "[encoded data removed]",
      "text/plain": [
       "<Figure size 640x480 with 1 Axes>"
      ]
     },
     "metadata": {},
     "output_type": "display_data"
    }
   ],
   "source": [
    "plt.pie(common_type, labels=common_type.index, autopct=\"%1.1f%%\", startangle=75, explode=(0.01,0.01,0.01), shadow=True, pctdistance=0.8)\n",
    "plt.show()"
   ]
  },
  {
   "cell_type": "markdown",
   "id": "bcff5ea8-eee4-480f-a389-e56d9b4828fe",
   "metadata": {},
   "source": [
    "**AVERAGE VIEWS, LIKES, COMMENTS COMPARED BETWEEN DIFFERENT ALBUM TYPES**"
   ]
  },
  {
   "cell_type": "code",
   "execution_count": 146,
   "id": "842d68a9-79fe-49de-9d77-2c863645fed1",
   "metadata": {},
   "outputs": [
    {
     "data": {
      "text/html": [
       "<div>\n",
       "<style scoped>\n",
       "    .dataframe tbody tr th:only-of-type {\n",
       "        vertical-align: middle;\n",
       "    }\n",
       "\n",
       "    .dataframe tbody tr th {\n",
       "        vertical-align: top;\n",
       "    }\n",
       "\n",
       "    .dataframe thead th {\n",
       "        text-align: right;\n",
       "    }\n",
       "</style>\n",
       "<table border=\"1\" class=\"dataframe\">\n",
       "  <thead>\n",
       "    <tr style=\"text-align: right;\">\n",
       "      <th></th>\n",
       "      <th>Album_type</th>\n",
       "      <th>Likes</th>\n",
       "      <th>Views</th>\n",
       "      <th>Comments</th>\n",
       "    </tr>\n",
       "  </thead>\n",
       "  <tbody>\n",
       "    <tr>\n",
       "      <th>0</th>\n",
       "      <td>album</td>\n",
       "      <td>672593.609948</td>\n",
       "      <td>1.014359e+08</td>\n",
       "      <td>672593.609948</td>\n",
       "    </tr>\n",
       "    <tr>\n",
       "      <th>1</th>\n",
       "      <td>compilation</td>\n",
       "      <td>544275.818182</td>\n",
       "      <td>8.500535e+07</td>\n",
       "      <td>544275.818182</td>\n",
       "    </tr>\n",
       "    <tr>\n",
       "      <th>2</th>\n",
       "      <td>single</td>\n",
       "      <td>722266.303890</td>\n",
       "      <td>8.480843e+07</td>\n",
       "      <td>722266.303890</td>\n",
       "    </tr>\n",
       "  </tbody>\n",
       "</table>\n",
       "</div>"
      ],
      "text/plain": [
       "    Album_type          Likes         Views       Comments\n",
       "0        album  672593.609948  1.014359e+08  672593.609948\n",
       "1  compilation  544275.818182  8.500535e+07  544275.818182\n",
       "2       single  722266.303890  8.480843e+07  722266.303890"
      ]
     },
     "execution_count": 146,
     "metadata": {},
     "output_type": "execute_result"
    }
   ],
   "source": [
    "df = data.groupby('Album_type')[['Likes', 'Views', 'Comments']].mean()\n",
    "df = df.reset_index()\n",
    "df"
   ]
  },
  {
   "cell_type": "code",
   "execution_count": 147,
   "id": "37b6225c-e393-489b-834d-33f8f2d7fd2e",
   "metadata": {},
   "outputs": [],
   "source": [
    "df_melted = pd.melt(df, id_vars='Album_type', var_name='Attribute', value_name='Total')"
   ]
  },
  {
   "cell_type": "code",
   "execution_count": 148,
   "id": "62621cab-c03f-4ec4-94a3-ac360d2db3e0",
   "metadata": {},
   "outputs": [
    {
     "data": {
      "text/plain": [
       "<Axes: xlabel='Album_type', ylabel='Total'>"
      ]
     },
     "execution_count": 148,
     "metadata": {},
     "output_type": "execute_result"
    },
    {
     "data": {
      "image/png": "[encoded data removed]",
      "text/plain": [
       "<Figure size 900x400 with 1 Axes>"
      ]
     },
     "metadata": {},
     "output_type": "display_data"
    }
   ],
   "source": [
    "plt.figure(figsize=(9,4))\n",
    "sns.barplot(x='Album_type', y='Total', hue='Attribute', data=df_melted)"
   ]
  },
  {
   "cell_type": "markdown",
   "id": "c5ffd120-833d-4bf0-b91d-f3d5550e4ab5",
   "metadata": {},
   "source": [
    "**TOP 10 CHANNELS BASED ON VIEWS**"
   ]
  },
  {
   "cell_type": "code",
   "execution_count": 153,
   "id": "2a5e956b-c671-4b52-bb34-fb011ccdbc75",
   "metadata": {},
   "outputs": [
    {
     "data": {
      "text/html": [
       "<div>\n",
       "<style scoped>\n",
       "    .dataframe tbody tr th:only-of-type {\n",
       "        vertical-align: middle;\n",
       "    }\n",
       "\n",
       "    .dataframe tbody tr th {\n",
       "        vertical-align: top;\n",
       "    }\n",
       "\n",
       "    .dataframe thead th {\n",
       "        text-align: right;\n",
       "    }\n",
       "</style>\n",
       "<table border=\"1\" class=\"dataframe\">\n",
       "  <thead>\n",
       "    <tr style=\"text-align: right;\">\n",
       "      <th></th>\n",
       "      <th>Channel</th>\n",
       "      <th>Views</th>\n",
       "    </tr>\n",
       "  </thead>\n",
       "  <tbody>\n",
       "    <tr>\n",
       "      <th>0</th>\n",
       "      <td>T-Series</td>\n",
       "      <td>4.796159e+10</td>\n",
       "    </tr>\n",
       "    <tr>\n",
       "      <th>1</th>\n",
       "      <td>LuisFonsiVEVO</td>\n",
       "      <td>2.170252e+10</td>\n",
       "    </tr>\n",
       "    <tr>\n",
       "      <th>2</th>\n",
       "      <td>CalvinHarrisVEVO</td>\n",
       "      <td>1.828114e+10</td>\n",
       "    </tr>\n",
       "    <tr>\n",
       "      <th>3</th>\n",
       "      <td>Macklemore</td>\n",
       "      <td>1.700341e+10</td>\n",
       "    </tr>\n",
       "    <tr>\n",
       "      <th>4</th>\n",
       "      <td>Ed Sheeran</td>\n",
       "      <td>1.691822e+10</td>\n",
       "    </tr>\n",
       "  </tbody>\n",
       "</table>\n",
       "</div>"
      ],
      "text/plain": [
       "            Channel         Views\n",
       "0          T-Series  4.796159e+10\n",
       "1     LuisFonsiVEVO  2.170252e+10\n",
       "2  CalvinHarrisVEVO  1.828114e+10\n",
       "3        Macklemore  1.700341e+10\n",
       "4        Ed Sheeran  1.691822e+10"
      ]
     },
     "execution_count": 153,
     "metadata": {},
     "output_type": "execute_result"
    }
   ],
   "source": [
    "c_views = data.groupby('Channel')['Views'].sum().sort_values(ascending=False)\n",
    "c_views = c_views.reset_index()\n",
    "c_views.head()\n"
   ]
  },
  {
   "cell_type": "code",
   "execution_count": 166,
   "id": "539c4fd6-0cae-40e2-b1b2-f98fdbaeb6cd",
   "metadata": {},
   "outputs": [],
   "source": [
    "sns.set_style(\"darkgrid\")"
   ]
  },
  {
   "cell_type": "code",
   "execution_count": 168,
   "id": "d987ad60-7bdf-4008-b956-b61707a11b18",
   "metadata": {},
   "outputs": [
    {
     "data": {
      "text/plain": [
       "<Axes: xlabel='Views', ylabel='Channel'>"
      ]
     },
     "execution_count": 168,
     "metadata": {},
     "output_type": "execute_result"
    },
    {
     "data": {
      "image/png": "[encoded data removed]",
      "text/plain": [
       "<Figure size 640x480 with 1 Axes>"
      ]
     },
     "metadata": {},
     "output_type": "display_data"
    }
   ],
   "source": [
    "sns.barplot(x='Views', y='Channel', data=c_views.head(10), color='red')"
   ]
  },
  {
   "cell_type": "markdown",
   "id": "368fd77c-cb2e-44f5-9247-c9e4effe67bc",
   "metadata": {},
   "source": [
    "**THE MOST POPULAR TRACK**"
   ]
  },
  {
   "cell_type": "code",
   "execution_count": 169,
   "id": "c1d4fded-0f1d-42ab-916a-227276b85e90",
   "metadata": {},
   "outputs": [
    {
     "data": {
      "text/html": [
       "<div>\n",
       "<style scoped>\n",
       "    .dataframe tbody tr th:only-of-type {\n",
       "        vertical-align: middle;\n",
       "    }\n",
       "\n",
       "    .dataframe tbody tr th {\n",
       "        vertical-align: top;\n",
       "    }\n",
       "\n",
       "    .dataframe thead th {\n",
       "        text-align: right;\n",
       "    }\n",
       "</style>\n",
       "<table border=\"1\" class=\"dataframe\">\n",
       "  <thead>\n",
       "    <tr style=\"text-align: right;\">\n",
       "      <th></th>\n",
       "      <th>Artist</th>\n",
       "      <th>Track</th>\n",
       "      <th>Album</th>\n",
       "      <th>Album_type</th>\n",
       "      <th>Danceability</th>\n",
       "      <th>Energy</th>\n",
       "      <th>Key</th>\n",
       "      <th>Loudness</th>\n",
       "      <th>Speechiness</th>\n",
       "      <th>Acousticness</th>\n",
       "      <th>...</th>\n",
       "      <th>Duration_ms</th>\n",
       "      <th>Title</th>\n",
       "      <th>Channel</th>\n",
       "      <th>Views</th>\n",
       "      <th>Likes</th>\n",
       "      <th>Comments</th>\n",
       "      <th>Description</th>\n",
       "      <th>Licensed</th>\n",
       "      <th>official_video</th>\n",
       "      <th>Stream</th>\n",
       "    </tr>\n",
       "  </thead>\n",
       "  <tbody>\n",
       "    <tr>\n",
       "      <th>1147</th>\n",
       "      <td>Luis Fonsi</td>\n",
       "      <td>Despacito</td>\n",
       "      <td>VIDA</td>\n",
       "      <td>album</td>\n",
       "      <td>0.655</td>\n",
       "      <td>0.797</td>\n",
       "      <td>2.0</td>\n",
       "      <td>-4.787</td>\n",
       "      <td>0.153</td>\n",
       "      <td>0.198</td>\n",
       "      <td>...</td>\n",
       "      <td>229360.0</td>\n",
       "      <td>Luis Fonsi - Despacito ft. Daddy Yankee</td>\n",
       "      <td>LuisFonsiVEVO</td>\n",
       "      <td>8.079649e+09</td>\n",
       "      <td>50788652.0</td>\n",
       "      <td>50788652.0</td>\n",
       "      <td>“Despacito” disponible ya en todas las platafo...</td>\n",
       "      <td>True</td>\n",
       "      <td>True</td>\n",
       "      <td>1.506598e+09</td>\n",
       "    </tr>\n",
       "  </tbody>\n",
       "</table>\n",
       "<p>1 rows × 24 columns</p>\n",
       "</div>"
      ],
      "text/plain": [
       "          Artist      Track Album Album_type  Danceability  Energy  Key  \\\n",
       "1147  Luis Fonsi  Despacito  VIDA      album         0.655   0.797  2.0   \n",
       "\n",
       "      Loudness  Speechiness  Acousticness  ...  Duration_ms  \\\n",
       "1147    -4.787        0.153         0.198  ...     229360.0   \n",
       "\n",
       "                                        Title        Channel         Views  \\\n",
       "1147  Luis Fonsi - Despacito ft. Daddy Yankee  LuisFonsiVEVO  8.079649e+09   \n",
       "\n",
       "           Likes    Comments  \\\n",
       "1147  50788652.0  50788652.0   \n",
       "\n",
       "                                            Description  Licensed  \\\n",
       "1147  “Despacito” disponible ya en todas las platafo...      True   \n",
       "\n",
       "      official_video        Stream  \n",
       "1147            True  1.506598e+09  \n",
       "\n",
       "[1 rows x 24 columns]"
      ]
     },
     "execution_count": 169,
     "metadata": {},
     "output_type": "execute_result"
    }
   ],
   "source": [
    "data.sort_values('Views', ascending=False).head(1)"
   ]
  },
  {
   "cell_type": "markdown",
   "id": "208eb0b4-bdd8-4dee-8aad-0adeed94a2d2",
   "metadata": {},
   "source": [
    "**MOST LIKES AND VIEWS PERCENT**"
   ]
  },
  {
   "cell_type": "code",
   "execution_count": 174,
   "id": "62978425-0c1a-4b14-8342-5c865fff8857",
   "metadata": {},
   "outputs": [
    {
     "name": "stderr",
     "output_type": "stream",
     "text": [
      "C:\\Users\\romas\\AppData\\Local\\Temp\\ipykernel_13932\\1547739936.py:2: SettingWithCopyWarning: \n",
      "A value is trying to be set on a copy of a slice from a DataFrame.\n",
      "Try using .loc[row_indexer,col_indexer] = value instead\n",
      "\n",
      "See the caveats in the documentation: https://pandas.pydata.org/pandas-docs/stable/user_guide/indexing.html#returning-a-view-versus-a-copy\n",
      "  track_stats['Ration'] = track_stats['Likes'] / track_stats['Views'] * 100\n"
     ]
    }
   ],
   "source": [
    "track_stats = data[['Track', 'Likes', 'Views']]\n",
    "track_stats['Ration'] = track_stats['Likes'] / track_stats['Views'] * 100"
   ]
  },
  {
   "cell_type": "code",
   "execution_count": 176,
   "id": "a3d6962c-de3c-42ff-9465-4ea1ff30a816",
   "metadata": {},
   "outputs": [
    {
     "data": {
      "text/html": [
       "<div>\n",
       "<style scoped>\n",
       "    .dataframe tbody tr th:only-of-type {\n",
       "        vertical-align: middle;\n",
       "    }\n",
       "\n",
       "    .dataframe tbody tr th {\n",
       "        vertical-align: top;\n",
       "    }\n",
       "\n",
       "    .dataframe thead th {\n",
       "        text-align: right;\n",
       "    }\n",
       "</style>\n",
       "<table border=\"1\" class=\"dataframe\">\n",
       "  <thead>\n",
       "    <tr style=\"text-align: right;\">\n",
       "      <th></th>\n",
       "      <th>Track</th>\n",
       "      <th>Likes</th>\n",
       "      <th>Views</th>\n",
       "      <th>Ration</th>\n",
       "    </tr>\n",
       "  </thead>\n",
       "  <tbody>\n",
       "    <tr>\n",
       "      <th>19968</th>\n",
       "      <td>Intro</td>\n",
       "      <td>237761.0</td>\n",
       "      <td>954081.0</td>\n",
       "      <td>24.920421</td>\n",
       "    </tr>\n",
       "    <tr>\n",
       "      <th>19969</th>\n",
       "      <td>Safety Zone</td>\n",
       "      <td>453910.0</td>\n",
       "      <td>1952637.0</td>\n",
       "      <td>23.246000</td>\n",
       "    </tr>\n",
       "    <tr>\n",
       "      <th>19967</th>\n",
       "      <td>Future</td>\n",
       "      <td>250116.0</td>\n",
       "      <td>1180522.0</td>\n",
       "      <td>21.186899</td>\n",
       "    </tr>\n",
       "    <tr>\n",
       "      <th>19971</th>\n",
       "      <td>Pandora's Box</td>\n",
       "      <td>253702.0</td>\n",
       "      <td>1265231.0</td>\n",
       "      <td>20.051832</td>\n",
       "    </tr>\n",
       "    <tr>\n",
       "      <th>16297</th>\n",
       "      <td>My Universe - Galantis Remix</td>\n",
       "      <td>371437.0</td>\n",
       "      <td>2067753.0</td>\n",
       "      <td>17.963316</td>\n",
       "    </tr>\n",
       "  </tbody>\n",
       "</table>\n",
       "</div>"
      ],
      "text/plain": [
       "                              Track     Likes      Views     Ration\n",
       "19968                         Intro  237761.0   954081.0  24.920421\n",
       "19969                   Safety Zone  453910.0  1952637.0  23.246000\n",
       "19967                        Future  250116.0  1180522.0  21.186899\n",
       "19971                 Pandora's Box  253702.0  1265231.0  20.051832\n",
       "16297  My Universe - Galantis Remix  371437.0  2067753.0  17.963316"
      ]
     },
     "execution_count": 176,
     "metadata": {},
     "output_type": "execute_result"
    }
   ],
   "source": [
    "track_stats.sort_values('Ration', ascending=False).head()"
   ]
  },
  {
   "cell_type": "markdown",
   "id": "4bf376ba-56dc-473c-b37d-8f72faa2fa7d",
   "metadata": {},
   "source": [
    "**ALBUMS THAT HAVE TRACKS WITH MOST DANCEABILITY**"
   ]
  },
  {
   "cell_type": "code",
   "execution_count": 182,
   "id": "f7f605de-4828-4edd-bb0f-fdb7e2ac565a",
   "metadata": {},
   "outputs": [
    {
     "data": {
      "text/html": [
       "<div>\n",
       "<style scoped>\n",
       "    .dataframe tbody tr th:only-of-type {\n",
       "        vertical-align: middle;\n",
       "    }\n",
       "\n",
       "    .dataframe tbody tr th {\n",
       "        vertical-align: top;\n",
       "    }\n",
       "\n",
       "    .dataframe thead th {\n",
       "        text-align: right;\n",
       "    }\n",
       "</style>\n",
       "<table border=\"1\" class=\"dataframe\">\n",
       "  <thead>\n",
       "    <tr style=\"text-align: right;\">\n",
       "      <th></th>\n",
       "      <th>Album</th>\n",
       "      <th>Danceability</th>\n",
       "    </tr>\n",
       "  </thead>\n",
       "  <tbody>\n",
       "    <tr>\n",
       "      <th>0</th>\n",
       "      <td>Funky Friday</td>\n",
       "      <td>0.975</td>\n",
       "    </tr>\n",
       "    <tr>\n",
       "      <th>1</th>\n",
       "      <td>FOR CERTAIN (Deluxe)</td>\n",
       "      <td>0.975</td>\n",
       "    </tr>\n",
       "    <tr>\n",
       "      <th>2</th>\n",
       "      <td>The House Is Burning [homies begged]</td>\n",
       "      <td>0.971</td>\n",
       "    </tr>\n",
       "    <tr>\n",
       "      <th>3</th>\n",
       "      <td>Quality Control: Control The Streets Volume 2</td>\n",
       "      <td>0.970</td>\n",
       "    </tr>\n",
       "    <tr>\n",
       "      <th>4</th>\n",
       "      <td>N9NA</td>\n",
       "      <td>0.970</td>\n",
       "    </tr>\n",
       "  </tbody>\n",
       "</table>\n",
       "</div>"
      ],
      "text/plain": [
       "                                           Album  Danceability\n",
       "0                                   Funky Friday         0.975\n",
       "1                           FOR CERTAIN (Deluxe)         0.975\n",
       "2           The House Is Burning [homies begged]         0.971\n",
       "3  Quality Control: Control The Streets Volume 2         0.970\n",
       "4                                           N9NA         0.970"
      ]
     },
     "execution_count": 182,
     "metadata": {},
     "output_type": "execute_result"
    }
   ],
   "source": [
    "most_danceable = data.groupby('Album')['Danceability'].mean().sort_values(ascending=False).head()\n",
    "most_danceable = most_danceable.reset_index()\n",
    "most_danceable"
   ]
  },
  {
   "cell_type": "markdown",
   "id": "341f49f3-1239-4b42-be65-399828266d35",
   "metadata": {},
   "source": [
    "**CORRELATION BETWEEN LIKES, STREAMS, COMMENTS**"
   ]
  },
  {
   "cell_type": "code",
   "execution_count": 186,
   "id": "57458674-f002-424d-ba75-b609009aeeb1",
   "metadata": {},
   "outputs": [
    {
     "data": {
      "text/html": [
       "<div>\n",
       "<style scoped>\n",
       "    .dataframe tbody tr th:only-of-type {\n",
       "        vertical-align: middle;\n",
       "    }\n",
       "\n",
       "    .dataframe tbody tr th {\n",
       "        vertical-align: top;\n",
       "    }\n",
       "\n",
       "    .dataframe thead th {\n",
       "        text-align: right;\n",
       "    }\n",
       "</style>\n",
       "<table border=\"1\" class=\"dataframe\">\n",
       "  <thead>\n",
       "    <tr style=\"text-align: right;\">\n",
       "      <th></th>\n",
       "      <th>Views</th>\n",
       "      <th>Comments</th>\n",
       "      <th>Likes</th>\n",
       "      <th>Stream</th>\n",
       "    </tr>\n",
       "  </thead>\n",
       "  <tbody>\n",
       "    <tr>\n",
       "      <th>Views</th>\n",
       "      <td>1.000000</td>\n",
       "      <td>0.891695</td>\n",
       "      <td>0.891695</td>\n",
       "      <td>0.603510</td>\n",
       "    </tr>\n",
       "    <tr>\n",
       "      <th>Comments</th>\n",
       "      <td>0.891695</td>\n",
       "      <td>1.000000</td>\n",
       "      <td>1.000000</td>\n",
       "      <td>0.655808</td>\n",
       "    </tr>\n",
       "    <tr>\n",
       "      <th>Likes</th>\n",
       "      <td>0.891695</td>\n",
       "      <td>1.000000</td>\n",
       "      <td>1.000000</td>\n",
       "      <td>0.655808</td>\n",
       "    </tr>\n",
       "    <tr>\n",
       "      <th>Stream</th>\n",
       "      <td>0.603510</td>\n",
       "      <td>0.655808</td>\n",
       "      <td>0.655808</td>\n",
       "      <td>1.000000</td>\n",
       "    </tr>\n",
       "  </tbody>\n",
       "</table>\n",
       "</div>"
      ],
      "text/plain": [
       "             Views  Comments     Likes    Stream\n",
       "Views     1.000000  0.891695  0.891695  0.603510\n",
       "Comments  0.891695  1.000000  1.000000  0.655808\n",
       "Likes     0.891695  1.000000  1.000000  0.655808\n",
       "Stream    0.603510  0.655808  0.655808  1.000000"
      ]
     },
     "execution_count": 186,
     "metadata": {},
     "output_type": "execute_result"
    }
   ],
   "source": [
    "df_vlcs = data[['Views', 'Comments', 'Likes', 'Stream']]\n",
    "df_vlcs.corr()"
   ]
  },
  {
   "cell_type": "code",
   "execution_count": null,
   "id": "adffa295-1689-4611-a6c7-6db012368c46",
   "metadata": {},
   "outputs": [],
   "source": []
  }
 ],
 "metadata": {
  "kernelspec": {
   "display_name": "Python 3 (ipykernel)",
   "language": "python",
   "name": "python3"
  },
  "language_info": {
   "codemirror_mode": {
    "name": "ipython",
    "version": 3
   },
   "file_extension": ".py",
   "mimetype": "text/x-python",
   "name": "python",
   "nbconvert_exporter": "python",
   "pygments_lexer": "ipython3",
   "version": "3.13.2"
  }
 },
 "nbformat": 4,
 "nbformat_minor": 5
}
